{
 "cells": [
  {
   "cell_type": "code",
   "execution_count": 19,
   "metadata": {},
   "outputs": [],
   "source": [
    "import requests\n",
    "from bs4 import BeautifulSoup\n",
    "from datetime import date\n",
    "import sqlite3\n",
    "import pandas as pd\n",
    "from selenium import webdriver\n",
    "from selenium.webdriver.common.by import By\n",
    "import time\n",
    "import pandas as pd\n",
    "\n",
    "def get_links():\n",
    "\n",
    "    DRIVER_PATH = '/path/to/chromedriver'\n",
    "    links_to_scrape=[]\n",
    "\n",
    "    for page in range(1, 2):\n",
    "        driver = webdriver.Chrome(executable_path=DRIVER_PATH)\n",
    "        driver.get('https://asunnot.oikotie.fi/myytavatasunnot/helsinki?pagination='+ str(page))\n",
    "\n",
    "        time.sleep(2)\n",
    "\n",
    "        lnks = driver.find_elements(By.CLASS_NAME, \"otcardv2\")\n",
    "        # traverse list\n",
    "        for lnk in lnks:\n",
    "            links_to_scrape.append(lnk.get_attribute(\"href\"))\n",
    "            print(lnk.get_attribute(\"href\"))\n",
    "    driver.quit()\n",
    "    return links_to_scrape\n",
    "\n",
    "\n",
    "\n",
    "def get_data(link):\n",
    "\n",
    "    r = requests.get(link)\n",
    "    \n",
    "    soup = BeautifulSoup(r.content, 'html.parser')\n",
    "    data=soup.select(\".infotable__row\")\n",
    "        ##\".infotable__title\", \".infotable__value\")\n",
    "    #info=soup.select(\".infotable__value\")\n",
    "\n",
    "    items={}\n",
    "    for item in data:\n",
    "        for i,j in zip(item.find_all(\"dt\"), item.find_all(\"dd\")):\n",
    "            title=i.text.strip()\n",
    "            value=j.text.strip()\n",
    "            items[title]=value\n",
    "            items['link']=link\n",
    "            \n",
    "    return items\n",
    "\n",
    "def transform(df):\n",
    "\n",
    "    columns_to_float=['Velaton hinta', 'Myyntihinta', 'Neliöhinta', 'Hoitovastike', 'Yhtiövastike', 'Vesimaksu']\n",
    "\n",
    "    df=to_float(df, columns_to_float)\n",
    "\n",
    "    df[\"pvm\"]=date.today()\n",
    "    df[\"id\"]=df['link'].str[8:]\n",
    "    df[\"status\"]=\"aktiivinen\"\n",
    "\n",
    "    return df\n",
    "\n",
    "\n",
    "def extract(links_to_scrape):\n",
    "    df=pd.DataFrame()\n",
    "\n",
    "    for link in links_to_scrape:\n",
    "    ## append dict to df\n",
    "        data=pd.DataFrame([get_data(link)])\n",
    "        \n",
    "        df=df.append(data)\n",
    "    \n",
    "    df=transform(df)\n",
    "\n",
    "    return df\n",
    "\n",
    "\n",
    "\n",
    "##Utils\n",
    "\n",
    "def to_float(df, columns):\n",
    "\n",
    "    for column in columns:\n",
    "        replacement = {\n",
    "        \"/m2\": \"\",\n",
    "        \"€\": \"\",\n",
    "        '\\s+': '',\n",
    "        ',':'.',\n",
    "        '/kk': ''\n",
    "        }\n",
    "\n",
    "        df[column] = df[column].astype(str).str.replace(_, '').replace(replacement, regex=True).astype(float)\n",
    "\n",
    "    return df"
   ]
  },
  {
   "cell_type": "code",
   "execution_count": null,
   "metadata": {},
   "outputs": [],
   "source": [
    "links_to_scrape=get_links()"
   ]
  },
  {
   "cell_type": "code",
   "execution_count": null,
   "metadata": {},
   "outputs": [],
   "source": [
    "df=pd.DataFrame()\n",
    "for link in links_to_scrape:\n",
    "## append dict to df\n",
    "    data=pd.DataFrame([get_data(link)])\n",
    "    df=df.append(data)"
   ]
  },
  {
   "cell_type": "code",
   "execution_count": null,
   "metadata": {},
   "outputs": [],
   "source": [
    "df_all=extract(links_to_scrape)"
   ]
  },
  {
   "cell_type": "code",
   "execution_count": 64,
   "metadata": {},
   "outputs": [
    {
     "name": "stderr",
     "output_type": "stream",
     "text": [
      "C:\\Users\\samul\\AppData\\Local\\Temp\\ipykernel_11532\\2009126609.py:11: FutureWarning: The default value of regex will change from True to False in a future version.\n",
      "  df.columns = df.columns.str.replace('[-,\" \"]', '_')\n"
     ]
    }
   ],
   "source": [
    "def transform(df):\n",
    "\n",
    "\n",
    "\n",
    "    df[\"pvm\"]=date.today()\n",
    "    df[\"id\"]=df['link'].str[-8:]\n",
    "    df[\"status\"]=\"aktiivinen\"\n",
    "\n",
    "    df.columns = df.columns.str.replace('ä', 'a')\n",
    "    df.columns = df.columns.str.replace('ö', 'o')\n",
    "    df.columns = df.columns.str.replace('[-,\" \"]', '_')\n",
    "    df=df.drop(df.columns[35], axis=1)\n",
    "\n",
    "    return df\n",
    "\n",
    "df=transform(df_all)"
   ]
  },
  {
   "cell_type": "code",
   "execution_count": 63,
   "metadata": {},
   "outputs": [
    {
     "data": {
      "text/plain": [
       "''"
      ]
     },
     "execution_count": 63,
     "metadata": {},
     "output_type": "execute_result"
    }
   ],
   "source": [
    "df.columns[35]"
   ]
  },
  {
   "cell_type": "code",
   "execution_count": 49,
   "metadata": {},
   "outputs": [
    {
     "name": "stderr",
     "output_type": "stream",
     "text": [
      "C:\\Users\\samul\\AppData\\Local\\Temp\\ipykernel_11532\\4037217465.py:4: FutureWarning: The default value of regex will change from True to False in a future version.\n",
      "  df_all.columns = df_all.columns.str.replace('[-,\" \"]', '')\n"
     ]
    }
   ],
   "source": [
    "df_all.columns = df_all.columns.str.replace('ä', 'a')\n",
    "df_all.columns = df_all.columns.str.replace('ö', 'o')\n",
    "\n",
    "df_all.columns = df_all.columns.str.replace('[-,\" \"]', '_')"
   ]
  },
  {
   "cell_type": "code",
   "execution_count": 65,
   "metadata": {},
   "outputs": [],
   "source": [
    "conn=sqlite3.connect('oikotie.db')\n",
    "c=conn.cursor()\n",
    "\n",
    "df.to_sql(\"asunnot\", conn, if_exists=\"replace\", index=False)\n",
    "conn.commit()\n",
    "conn.close()"
   ]
  },
  {
   "cell_type": "code",
   "execution_count": 59,
   "metadata": {},
   "outputs": [],
   "source": [
    "\n",
    "with open('sales.txt', 'w') as fp:\n",
    "    fp.write('\\n'.join(columnss))"
   ]
  },
  {
   "cell_type": "code",
   "execution_count": 57,
   "metadata": {},
   "outputs": [
    {
     "name": "stdout",
     "output_type": "stream",
     "text": [
      "['Sijainti text,', 'link text,', 'Kaupunginosa text,', 'Kohdenumero text,', 'Kerros text,', 'Asuinpinta_ala text,', 'Tontin_pinta_ala text,', 'Kokonaispinta_ala text,', 'Pinta_alojen_lisatiedot text,', 'Huoneiston_kokoonpano text,', 'Huoneita text,', 'Kunto text,', 'Lisatietoa_vapautumisesta text,', 'Keittion_varusteet text,', 'Parveke text,', 'Parvekkeen_lisatiedot text,', 'Kylpyhuoneen_varusteet text,', 'Sailytystilat text,', 'Nakymat text,', 'Tulevat_remontit text,', 'Tehdyt_remontit text,', 'Asunnossa_sauna text,', 'Saunan_lisatiedot text,', 'Asumistyyppi text,', 'Palvelut text,', 'Lisatiedot text,', 'Kohde_on text,', 'Velaton_hinta text,', 'Myyntihinta real,', 'Neliohinta text,', 'Hoitovastike real,', 'Yhtiovastike text,', 'Vesimaksu real,', 'Vesimaksun_lisatiedot text,', 'Muut_kustannukset text,', ' text,', 'Uudiskohde text,', 'Taloyhtion_nimi text,', 'Rakennuksen_tyyppi text,', 'Rakennusvuosi text,', 'Huoneistojen_lukumaara text,', 'Kerroksia text,', 'Hissi text,', 'Rakennusmateriaali text,', 'Kattomateriaali text,', 'Kattotyyppi text,', 'Energialuokka text,', 'Energiatodistus text,', 'Kiinteiston_antennijarjestelma text,', 'Tontin_koko text,', 'Tontin_omistus text,', 'Maanvuokraaja text,', 'Kiinteistonhoito text,', 'Isannointi text,', 'Kaavoitustiedot text,', 'Kaavatilanne text,', 'Liikenneyhteydet text,', 'Kuntotutkimus text,', 'Lammitys text,', 'Tontin_vuokra_paattyy text,', 'Tontin_vuokra text,', 'Lisatietoja_talosta text,', 'Pysakointitilan_kuvaus text,', 'Yhteiset_tilat text,', 'Pintamateriaalit text,', 'Linkit text,', 'Rahoitusvastike text,', 'Saunan_kustannukset text,', 'Liiketilojen_pinta_ala text,', 'Liikehuoneistojen_lukumaara text,', 'Taloyhtiossa_on_sauna text,', 'Kerroksien_lukumaara text,', 'Kunnon_lisatiedot text,', 'Keittio text,', 'Velkaosuus text,', 'Lammityskustannukset text,', 'Valmistumisaika text,', 'Ilmanvaihto text,', 'Lainaosuuden_maksu text,', 'Pinta_alan_lahde text,', 'Ikkunoiden_suunta text,', 'Vuokrattu text,', 'Osakeluettelo_on_siirretty_huoneistojarjestelmaan text,', 'Tiedustelut text,', 'Autopaikan_kustannukset text,', 'Rakennusvuoden_lisatiedot text,', 'Ominaisuudet text,', 'Sahkoinen_omistajamerkinta text,', 'Lunastuspykala text,', 'Ilmastointijarjestelma text,', 'Makuuhuoneen_lattia text,', 'Makuuhuoneen_seinat text,', 'Kylpyhuoneen_lattia text,', 'Kylpyhuoneen_seinat text,', 'Olohuoneen_lattia text,', 'Olohuoneen_seinat text,', 'Vapautuu text,', 'TV_palvelut text,', 'Tietoliikennepalvelut text,', 'Saunamaksu text,', 'Liikehuoneistojen_pinta_ala text,', 'Lisatietoa_hissista text,', 'Lisatietoa_taloyhtion_saunasta text,', 'Kiinteiston_laajakaistayhteys text,', 'Harrastusmahdollisuudet text,', 'Rakennuksen_lisatiedot text,', 'Pysakointimaksu text,', 'Muut_tilat text,', 'Lisatietoja_makuuhuoneen_varusteista text,', 'Olohuoneen_varusteet text,', 'Ajo_ohjeet text,', 'Kiinteistotunnus text,', 'Kiinnitykset text,', 'Kiinteistovero text,', 'Tontin_kuvaus text,', 'Viemarointi text,', 'Muut_materiaalit text,', 'pvm text,', 'id text,', 'status text,']\n"
     ]
    }
   ],
   "source": [
    "columns_to_float=['Velaton hinta', 'Myyntihinta', 'Neliöhinta', 'Hoitovastike', 'Yhtiövastike', 'Vesimaksu']\n",
    "\n",
    "columns=df_all.columns.values \n",
    "columnss=[]\n",
    "for column in columns:\n",
    "    if column in columns_to_float:\n",
    "        columnss.append(f'{column} real,')\n",
    "    else:\n",
    "        columnss.append(f'{column} text,')\n",
    "for string in columnss:\n",
    "    string = string.replace('ä', 'a')\n",
    "    string = string.replace('ö', 'o')\n",
    "    string=string.replace('[-,\" \"]', '_')\n",
    "print(columnss)\n",
    "\n",
    "\n",
    "\n"
   ]
  },
  {
   "cell_type": "code",
   "execution_count": 61,
   "metadata": {},
   "outputs": [
    {
     "name": "stdout",
     "output_type": "stream",
     "text": [
      "Index(['Sijainti', 'link', 'Kaupunginosa', 'Kohdenumero', 'Kerros',\n",
      "       'Asuinpinta_ala', 'Tontin_pinta_ala', 'Kokonaispinta_ala',\n",
      "       'Pinta_alojen_lisatiedot', 'Huoneiston_kokoonpano',\n",
      "       ...\n",
      "       'Ajo_ohjeet', 'Kiinteistotunnus', 'Kiinnitykset', 'Kiinteistovero',\n",
      "       'Tontin_kuvaus', 'Viemarointi', 'Muut_materiaalit', 'pvm', 'id',\n",
      "       'status'],\n",
      "      dtype='object', length=120)\n"
     ]
    }
   ],
   "source": [
    "print(df.columns)"
   ]
  },
  {
   "cell_type": "code",
   "execution_count": null,
   "metadata": {},
   "outputs": [],
   "source": [
    "\n",
    "conn=sqlite3.connect('sqlite:///oikotie.db')\n",
    "c=conn.cursor()\n",
    "\n",
    "df_prev=c.execute('''select id, \"Velaton hinta\" from asunnot''')\n",
    "\n",
    "sold=df.loc[~df['id'].isin(df_prev['id'])]\n",
    "price_changed=pd.merge(df, df_prev, on='id')\n",
    "\n",
    "\n",
    "##set(df.columns).intersection(set(df_prev.columns))\n",
    "df.to_sql(\"stg_asunnot\", conn, if_exists=\"replace\", index=False)"
   ]
  },
  {
   "cell_type": "code",
   "execution_count": 52,
   "metadata": {},
   "outputs": [
    {
     "data": {
      "text/plain": [
       "<sqlite3.Cursor at 0x25b83f14c70>"
      ]
     },
     "execution_count": 52,
     "metadata": {},
     "output_type": "execute_result"
    }
   ],
   "source": [
    "import sqlite3\n",
    "import pandas as pd\n",
    "\n",
    "columnnames='''Sijainti text,\n",
    "link text,\n",
    "Kaupunginosa text,\n",
    "Kohdenumero text,\n",
    "Kerros text,\n",
    "Asuinpintaala text,\n",
    "Tontinpintaala text,\n",
    "Kokonaispintaala text,\n",
    "Pintaalojenlisatiedot text,\n",
    "Huoneistonkokoonpano text,\n",
    "Huoneita text,\n",
    "Kunto text,\n",
    "Lisatietoavapautumisesta text,\n",
    "Keittionvarusteet text,\n",
    "Parveke text,\n",
    "Parvekkeenlisatiedot text,\n",
    "Kylpyhuoneenvarusteet text,\n",
    "Sailytystilat text,\n",
    "Nakymat text,\n",
    "Tulevatremontit text,\n",
    "Tehdytremontit text,\n",
    "Asunnossasauna text,\n",
    "Saunanlisatiedot text,\n",
    "Asumistyyppi text,\n",
    "Palvelut text,\n",
    "Lisatiedot text,\n",
    "Kohdeon text,\n",
    "Velatonhinta text,\n",
    "Myyntihinta real,\n",
    "Neliohinta text,\n",
    "Hoitovastike real,\n",
    "Yhtiovastike text,\n",
    "Vesimaksu real,\n",
    "Vesimaksunlisatiedot text,\n",
    "Muutkustannukset text,\n",
    " text,\n",
    "Uudiskohde text,\n",
    "Taloyhtionnimi text,\n",
    "Rakennuksentyyppi text,\n",
    "Rakennusvuosi text,\n",
    "Huoneistojenlukumaara text,\n",
    "Kerroksia text,\n",
    "Hissi text,\n",
    "Rakennusmateriaali text,\n",
    "Kattomateriaali text,\n",
    "Kattotyyppi text,\n",
    "Energialuokka text,\n",
    "Energiatodistus text,\n",
    "Kiinteistonantennijarjestelma text,\n",
    "Tontinkoko text,\n",
    "Tontinomistus text,\n",
    "Maanvuokraaja text,\n",
    "Kiinteistonhoito text,\n",
    "Isannointi text,\n",
    "Kaavoitustiedot text,\n",
    "Kaavatilanne text,\n",
    "Liikenneyhteydet text,\n",
    "Kuntotutkimus text,\n",
    "Lammitys text,\n",
    "Tontinvuokrapaattyy text,\n",
    "Tontinvuokra text,\n",
    "Lisatietojatalosta text,\n",
    "Pysakointitilankuvaus text,\n",
    "Yhteisettilat text,\n",
    "Pintamateriaalit text,\n",
    "Linkit text,\n",
    "Rahoitusvastike text,\n",
    "Saunankustannukset text,\n",
    "Liiketilojenpintaala text,\n",
    "Liikehuoneistojenlukumaara text,\n",
    "Taloyhtiossaonsauna text,\n",
    "Kerroksienlukumaara text,\n",
    "Kunnonlisatiedot text,\n",
    "Keittio text,\n",
    "Velkaosuus text,\n",
    "Lammityskustannukset text,\n",
    "Valmistumisaika text,\n",
    "Ilmanvaihto text,\n",
    "Lainaosuudenmaksu text,\n",
    "Pintaalanlahde text,\n",
    "Ikkunoidensuunta text,\n",
    "Vuokrattu text,\n",
    "Osakeluetteloonsiirrettyhuoneistojarjestelmaan text,\n",
    "Tiedustelut text,\n",
    "Autopaikankustannukset text,\n",
    "Rakennusvuodenlisatiedot text,\n",
    "Ominaisuudet text,\n",
    "Sahkoinenomistajamerkinta text,\n",
    "Lunastuspykala text,\n",
    "Ilmastointijarjestelma text,\n",
    "Makuuhuoneenlattia text,\n",
    "Makuuhuoneenseinat text,\n",
    "Kylpyhuoneenlattia text,\n",
    "Kylpyhuoneenseinat text,\n",
    "Olohuoneenlattia text,\n",
    "Olohuoneenseinat text,\n",
    "Vapautuu text,\n",
    "TVpalvelut text,\n",
    "Tietoliikennepalvelut text,\n",
    "Saunamaksu text,\n",
    "Liikehuoneistojenpintaala text,\n",
    "Lisatietoahissista text,\n",
    "Lisatietoataloyhtionsaunasta text,\n",
    "Kiinteistonlaajakaistayhteys text,\n",
    "Harrastusmahdollisuudet text,\n",
    "Rakennuksenlisatiedot text,\n",
    "Pysakointimaksu text,\n",
    "Muuttilat text,\n",
    "Lisatietojamakuuhuoneenvarusteista text,\n",
    "Olohuoneenvarusteet text,\n",
    "Ajoohjeet text,\n",
    "Kiinteistotunnus text,\n",
    "Kiinnitykset text,\n",
    "Kiinteistovero text,\n",
    "Tontinkuvaus text,\n",
    "Viemarointi text,\n",
    "Muutmateriaalit text,\n",
    "pvm text,\n",
    "id text,\n",
    "status text'''\n",
    "\n",
    "\n",
    "conn=sqlite3.connect('oikotie.db')\n",
    "c=conn.cursor()\n",
    "c.execute(f''' CREATE TABLE IF NOT EXISTS asunnot({columnnames}\n",
    "    ) ''')\n",
    "\n",
    "conn.commit()\n",
    "conn.close()"
   ]
  }
 ],
 "metadata": {
  "kernelspec": {
   "display_name": "Python 3",
   "language": "python",
   "name": "python3"
  },
  "language_info": {
   "codemirror_mode": {
    "name": "ipython",
    "version": 3
   },
   "file_extension": ".py",
   "mimetype": "text/x-python",
   "name": "python",
   "nbconvert_exporter": "python",
   "pygments_lexer": "ipython3",
   "version": "3.9.5 (tags/v3.9.5:0a7dcbd, May  3 2021, 17:27:52) [MSC v.1928 64 bit (AMD64)]"
  },
  "orig_nbformat": 4,
  "vscode": {
   "interpreter": {
    "hash": "ae25e38374e6ea94bf32cd508546a764692fb211f2387a286587d63fc0216cbd"
   }
  }
 },
 "nbformat": 4,
 "nbformat_minor": 2
}
